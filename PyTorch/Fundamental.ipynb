{
 "cells": [
  {
   "cell_type": "markdown",
   "id": "swiss-letter",
   "metadata": {},
   "source": [
    "## Import  library"
   ]
  },
  {
   "cell_type": "code",
   "execution_count": 2,
   "id": "circular-figure",
   "metadata": {},
   "outputs": [],
   "source": [
    "import torch"
   ]
  },
  {
   "cell_type": "markdown",
   "id": "modified-marshall",
   "metadata": {},
   "source": [
    "## Check torch and CUDA version"
   ]
  },
  {
   "cell_type": "code",
   "execution_count": 10,
   "id": "advisory-specification",
   "metadata": {},
   "outputs": [
    {
     "name": "stdout",
     "output_type": "stream",
     "text": [
      "1.6.0\n",
      "10.2\n",
      "True\n"
     ]
    }
   ],
   "source": [
    "print(torch.__version__)               # PyTorch version\n",
    "print(torch.version.cuda)              # Corresponding CUDA version\n",
    "print(torch.cuda.is_available())       # If CUDA is available"
   ]
  },
  {
   "cell_type": "markdown",
   "id": "typical-reaction",
   "metadata": {},
   "source": [
    "## Tensor \n",
    "\n",
    "https://pytorch.org/docs/stable/tensors.html"
   ]
  },
  {
   "cell_type": "markdown",
   "id": "middle-reserve",
   "metadata": {},
   "source": [
    "## Auto grad\n",
    "\n",
    "https://pytorch.org/docs/stable/autograd.html?highlight=autograd#module-torch.autograd"
   ]
  },
  {
   "cell_type": "markdown",
   "id": "initial-issue",
   "metadata": {},
   "source": [
    "## Vector opreation"
   ]
  },
  {
   "cell_type": "code",
   "execution_count": 6,
   "id": "referenced-accountability",
   "metadata": {},
   "outputs": [],
   "source": [
    "import time\n",
    "\n",
    "a = torch.ones(1000)\n",
    "b = torch.ones(1000)"
   ]
  },
  {
   "cell_type": "code",
   "execution_count": 7,
   "id": "soviet-position",
   "metadata": {},
   "outputs": [
    {
     "name": "stdout",
     "output_type": "stream",
     "text": [
      "0.026968002319335938\n"
     ]
    }
   ],
   "source": [
    "start = time.time()\n",
    "c = torch.zeros(1000)\n",
    "for i in range(1000):\n",
    "    c[i] = a[i] + b[i]\n",
    "end = time.time()\n",
    "print(end - start)"
   ]
  },
  {
   "cell_type": "code",
   "execution_count": 8,
   "id": "strong-health",
   "metadata": {},
   "outputs": [
    {
     "name": "stdout",
     "output_type": "stream",
     "text": [
      "0.0004048347473144531\n"
     ]
    }
   ],
   "source": [
    "start = time.time()\n",
    "d = a + b\n",
    "end = time.time()\n",
    "print(end - start)"
   ]
  },
  {
   "cell_type": "markdown",
   "id": "colonial-major",
   "metadata": {},
   "source": [
    "## Data Selction  \n",
    " * `torch.index_select(x,dim,indices)` or `x.index_select(dim,indices)`"
   ]
  },
  {
   "cell_type": "code",
   "execution_count": 15,
   "id": "surprised-running",
   "metadata": {},
   "outputs": [
    {
     "name": "stdout",
     "output_type": "stream",
     "text": [
      "tensor([[ 1.1135,  0.3615,  0.5208,  0.0534],\n",
      "        [ 0.1684, -1.6925, -1.2004,  1.5689],\n",
      "        [ 0.5202,  0.3780, -0.0521,  0.8711]])\n",
      "tensor([[ 1.1135,  0.3615,  0.5208,  0.0534],\n",
      "        [ 0.5202,  0.3780, -0.0521,  0.8711]])\n",
      "tensor([[ 1.1135,  0.5208],\n",
      "        [ 0.1684, -1.2004],\n",
      "        [ 0.5202, -0.0521]])\n"
     ]
    }
   ],
   "source": [
    "x = torch.randn(3, 4)\n",
    "print(x)\n",
    "\n",
    "indices = torch.tensor([0, 2])\n",
    "print(torch.index_select(x, 0, indices))\n",
    "\n",
    "print(torch.index_select(x, 1, indices))"
   ]
  },
  {
   "cell_type": "markdown",
   "id": "annoying-guitar",
   "metadata": {},
   "source": [
    "## Sequential Usage"
   ]
  },
  {
   "cell_type": "code",
   "execution_count": 16,
   "id": "lyric-model",
   "metadata": {},
   "outputs": [],
   "source": [
    "import torch.nn as nn"
   ]
  },
  {
   "cell_type": "code",
   "execution_count": 22,
   "id": "australian-hacker",
   "metadata": {},
   "outputs": [
    {
     "name": "stdout",
     "output_type": "stream",
     "text": [
      "Sequential(\n",
      "  (linear): Linear(in_features=2, out_features=1, bias=True)\n",
      ")\n",
      "Linear(in_features=2, out_features=1, bias=True)\n"
     ]
    }
   ],
   "source": [
    "num_inputs =2 \n",
    "# way1\n",
    "net = nn.Sequential(\n",
    "    nn.Linear(num_inputs, 1)\n",
    "    #  ....\n",
    "    )\n",
    "\n",
    "# way2 : similar to Keras \n",
    "net = nn.Sequential()\n",
    "net.add_module('linear', nn.Linear(num_inputs, 1))\n",
    "# net.add_module ......\n",
    "\n",
    "\n",
    "# way3\n",
    "from collections import OrderedDict\n",
    "net = nn.Sequential(OrderedDict([\n",
    "          ('linear', nn.Linear(num_inputs, 1))\n",
    "          # ......\n",
    "        ]))\n",
    "\n",
    "print(net)\n",
    "print(net[0])\n"
   ]
  },
  {
   "cell_type": "markdown",
   "id": "entire-chorus",
   "metadata": {},
   "source": [
    "## Keepdim"
   ]
  },
  {
   "cell_type": "code",
   "execution_count": 30,
   "id": "banner-medline",
   "metadata": {},
   "outputs": [
    {
     "name": "stdout",
     "output_type": "stream",
     "text": [
      "torch.Size([2, 3])\n",
      "tensor([5, 7, 9]) torch.Size([3])\n",
      "tensor([ 6, 15]) torch.Size([2])\n",
      "tensor([[5, 7, 9]]) torch.Size([1, 3])\n",
      "tensor([[ 6],\n",
      "        [15]]) torch.Size([1, 3])\n"
     ]
    }
   ],
   "source": [
    "X = torch.tensor([[1, 2, 3], [4, 5, 6]])\n",
    "print(X.shape)\n",
    "print(X.sum(dim=0, keepdim=False),X.sum(dim=0, keepdim=False).shape)\n",
    "print(X.sum(dim=1, keepdim=False),X.sum(dim=1, keepdim=False).shape)\n",
    "print(X.sum(dim=0, keepdim=True),X.sum(dim=0, keepdim=True).shape)\n",
    "print(X.sum(dim=1, keepdim=True),X.sum(dim=0, keepdim=True).shape)"
   ]
  },
  {
   "cell_type": "markdown",
   "id": "chemical-conviction",
   "metadata": {},
   "source": [
    "## Gather \n"
   ]
  },
  {
   "cell_type": "code",
   "execution_count": 35,
   "id": "according-nudist",
   "metadata": {},
   "outputs": [
    {
     "data": {
      "text/plain": [
       "tensor([[0.1000],\n",
       "        [0.5000]])"
      ]
     },
     "execution_count": 35,
     "metadata": {},
     "output_type": "execute_result"
    }
   ],
   "source": [
    "y_hat = torch.tensor([[0.1, 0.3, 0.6], \n",
    "                      [0.3, 0.2, 0.5]])\n",
    "y = torch.LongTensor([0, 2]) \n",
    "new_y = y_hat.gather(1, y.view(-1, 1)) # pick the selected index and gather them together\n",
    "new_y"
   ]
  },
  {
   "cell_type": "code",
   "execution_count": null,
   "id": "rotary-compiler",
   "metadata": {},
   "outputs": [],
   "source": []
  }
 ],
 "metadata": {
  "kernelspec": {
   "display_name": "Python 3",
   "language": "python",
   "name": "python3"
  },
  "language_info": {
   "codemirror_mode": {
    "name": "ipython",
    "version": 3
   },
   "file_extension": ".py",
   "mimetype": "text/x-python",
   "name": "python",
   "nbconvert_exporter": "python",
   "pygments_lexer": "ipython3",
   "version": "3.7.9"
  }
 },
 "nbformat": 4,
 "nbformat_minor": 5
}
